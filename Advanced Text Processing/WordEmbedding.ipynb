{
  "nbformat": 4,
  "nbformat_minor": 0,
  "metadata": {
    "colab": {
      "provenance": []
    },
    "kernelspec": {
      "name": "python3",
      "display_name": "Python 3"
    },
    "language_info": {
      "name": "python"
    }
  },
  "cells": [
    {
      "cell_type": "code",
      "source": [
        "import tensorflow\n",
        "import keras\n",
        "import numpy as np\n",
        "import pandas as pd"
      ],
      "metadata": {
        "id": "2mf_IN4U3c4t"
      },
      "execution_count": 22,
      "outputs": []
    },
    {
      "cell_type": "code",
      "execution_count": 23,
      "metadata": {
        "id": "34Ft--Yf1ake"
      },
      "outputs": [],
      "source": [
        "from tensorflow.keras.preprocessing.text import one_hot"
      ]
    },
    {
      "cell_type": "code",
      "source": [
        "### sentences\n",
        "sent=[  'the glass of milk',\n",
        "     'the glass of juice',\n",
        "     'the cup of tea',\n",
        "    'I am a good boy',\n",
        "     'I am a good developer',\n",
        "     'understand the meaning of words',\n",
        "     'your videos are good']\n",
        "sent"
      ],
      "metadata": {
        "colab": {
          "base_uri": "https://localhost:8080/"
        },
        "id": "Un5h_p8t1fvS",
        "outputId": "ab866b13-9774-44ab-fcc5-697f43826c9d"
      },
      "execution_count": 24,
      "outputs": [
        {
          "output_type": "execute_result",
          "data": {
            "text/plain": [
              "['the glass of milk',\n",
              " 'the glass of juice',\n",
              " 'the cup of tea',\n",
              " 'I am a good boy',\n",
              " 'I am a good developer',\n",
              " 'understand the meaning of words',\n",
              " 'your videos are good']"
            ]
          },
          "metadata": {},
          "execution_count": 24
        }
      ]
    },
    {
      "cell_type": "code",
      "source": [
        "### Vocabulary size\n",
        "vocab_size=10000"
      ],
      "metadata": {
        "id": "t1L9Su6t1jkY"
      },
      "execution_count": 25,
      "outputs": []
    },
    {
      "cell_type": "code",
      "source": [
        "# one hot representation\n",
        "onehot_repr=[one_hot(words,vocab_size)for words in sent]\n",
        "print(onehot_repr)"
      ],
      "metadata": {
        "colab": {
          "base_uri": "https://localhost:8080/"
        },
        "id": "ccGt9qje1yaJ",
        "outputId": "c56ad1eb-5f13-4ca2-deeb-3c5bcca1709b"
      },
      "execution_count": 26,
      "outputs": [
        {
          "output_type": "stream",
          "name": "stdout",
          "text": [
            "[[5557, 5986, 1026, 4256], [5557, 5986, 1026, 5777], [5557, 1177, 1026, 4090], [760, 5572, 118, 6739, 3123], [760, 5572, 118, 6739, 1308], [7436, 5557, 4922, 1026, 2571], [6811, 527, 3742, 6739]]\n"
          ]
        }
      ]
    },
    {
      "cell_type": "markdown",
      "source": [
        "### Word Embedding Represntation"
      ],
      "metadata": {
        "id": "ZaDC915619yz"
      }
    },
    {
      "cell_type": "code",
      "source": [
        "from tensorflow.keras.layers import Embedding\n",
        "from tensorflow.keras.preprocessing.sequence import pad_sequences\n",
        "from tensorflow.keras.models import Sequential"
      ],
      "metadata": {
        "id": "ToCQ3WFu16IV"
      },
      "execution_count": 27,
      "outputs": []
    },
    {
      "cell_type": "code",
      "source": [
        "# Convert all sentences of same length\n",
        "sent_length=8\n",
        "embedded_docs=pad_sequences(onehot_repr,padding='pre',maxlen=sent_length)\n",
        "print(embedded_docs)"
      ],
      "metadata": {
        "colab": {
          "base_uri": "https://localhost:8080/"
        },
        "id": "PR98RGNs2DMC",
        "outputId": "02d980aa-ff01-4d28-c693-71be6ea58345"
      },
      "execution_count": 28,
      "outputs": [
        {
          "output_type": "stream",
          "name": "stdout",
          "text": [
            "[[   0    0    0    0 5557 5986 1026 4256]\n",
            " [   0    0    0    0 5557 5986 1026 5777]\n",
            " [   0    0    0    0 5557 1177 1026 4090]\n",
            " [   0    0    0  760 5572  118 6739 3123]\n",
            " [   0    0    0  760 5572  118 6739 1308]\n",
            " [   0    0    0 7436 5557 4922 1026 2571]\n",
            " [   0    0    0    0 6811  527 3742 6739]]\n"
          ]
        }
      ]
    },
    {
      "cell_type": "code",
      "source": [
        "# initialising dimensions\n",
        "dim = 10"
      ],
      "metadata": {
        "id": "C3tngM3Z2YHS"
      },
      "execution_count": 29,
      "outputs": []
    },
    {
      "cell_type": "code",
      "source": [
        "model = Sequential()\n",
        "model.add(Embedding(vocab_size, 10, input_length = sent_length))\n",
        "model.compile('adam', 'mse')\n",
        "\n",
        "model.summary()"
      ],
      "metadata": {
        "colab": {
          "base_uri": "https://localhost:8080/"
        },
        "id": "66mEzALG2cfj",
        "outputId": "75269132-06c2-48f8-8215-20f4ea3772cf"
      },
      "execution_count": 30,
      "outputs": [
        {
          "output_type": "stream",
          "name": "stdout",
          "text": [
            "Model: \"sequential_1\"\n",
            "_________________________________________________________________\n",
            " Layer (type)                Output Shape              Param #   \n",
            "=================================================================\n",
            " embedding_1 (Embedding)     (None, 8, 10)             100000    \n",
            "                                                                 \n",
            "=================================================================\n",
            "Total params: 100000 (390.62 KB)\n",
            "Trainable params: 100000 (390.62 KB)\n",
            "Non-trainable params: 0 (0.00 Byte)\n",
            "_________________________________________________________________\n"
          ]
        }
      ]
    },
    {
      "cell_type": "code",
      "source": [
        "embedded_docs[0]"
      ],
      "metadata": {
        "colab": {
          "base_uri": "https://localhost:8080/"
        },
        "id": "d3d7F58C2ljp",
        "outputId": "449fba90-3380-465f-9e32-227942b59517"
      },
      "execution_count": 31,
      "outputs": [
        {
          "output_type": "execute_result",
          "data": {
            "text/plain": [
              "array([   0,    0,    0,    0, 5557, 5986, 1026, 4256], dtype=int32)"
            ]
          },
          "metadata": {},
          "execution_count": 31
        }
      ]
    },
    {
      "cell_type": "code",
      "source": [
        "model.predict(embedded_docs)[0]"
      ],
      "metadata": {
        "colab": {
          "base_uri": "https://localhost:8080/"
        },
        "id": "QHL6RXMW2u4u",
        "outputId": "180469d9-4e11-4e79-88c8-39d03218cdf9"
      },
      "execution_count": 32,
      "outputs": [
        {
          "output_type": "stream",
          "name": "stdout",
          "text": [
            "1/1 [==============================] - 0s 31ms/step\n"
          ]
        },
        {
          "output_type": "execute_result",
          "data": {
            "text/plain": [
              "array([[-3.2236710e-02,  1.8474828e-02, -4.2285766e-02, -5.2176826e-03,\n",
              "        -2.0518415e-03, -1.1708688e-02, -1.6939856e-02, -1.7025054e-02,\n",
              "         1.2847770e-02, -1.4244638e-02],\n",
              "       [-3.2236710e-02,  1.8474828e-02, -4.2285766e-02, -5.2176826e-03,\n",
              "        -2.0518415e-03, -1.1708688e-02, -1.6939856e-02, -1.7025054e-02,\n",
              "         1.2847770e-02, -1.4244638e-02],\n",
              "       [-3.2236710e-02,  1.8474828e-02, -4.2285766e-02, -5.2176826e-03,\n",
              "        -2.0518415e-03, -1.1708688e-02, -1.6939856e-02, -1.7025054e-02,\n",
              "         1.2847770e-02, -1.4244638e-02],\n",
              "       [-3.2236710e-02,  1.8474828e-02, -4.2285766e-02, -5.2176826e-03,\n",
              "        -2.0518415e-03, -1.1708688e-02, -1.6939856e-02, -1.7025054e-02,\n",
              "         1.2847770e-02, -1.4244638e-02],\n",
              "       [-1.7153896e-02, -1.8650748e-02,  1.1895549e-02, -5.1580369e-05,\n",
              "         3.8973812e-02,  5.7819001e-03, -4.7877338e-02,  3.5600517e-02,\n",
              "         1.4265325e-02, -4.8650276e-02],\n",
              "       [ 2.8851416e-02,  2.3542214e-02,  2.1579873e-02, -2.3341512e-02,\n",
              "         1.4819097e-02,  3.5584930e-02, -6.3952208e-03, -4.3067981e-02,\n",
              "        -3.7277520e-02, -4.2308997e-02],\n",
              "       [-4.9512684e-02, -6.4049736e-03,  7.6870322e-03, -1.1641003e-02,\n",
              "         4.5301206e-03,  4.3634143e-02,  2.2064615e-02,  3.2947425e-02,\n",
              "        -4.7810663e-02, -3.1706501e-02],\n",
              "       [ 2.7461831e-02, -1.9545151e-02, -4.9229037e-02,  1.2007654e-02,\n",
              "         5.5062659e-03,  2.7551282e-02,  1.2819622e-02, -1.2810715e-03,\n",
              "        -4.6720244e-02,  3.5753738e-02]], dtype=float32)"
            ]
          },
          "metadata": {},
          "execution_count": 32
        }
      ]
    },
    {
      "cell_type": "code",
      "source": [],
      "metadata": {
        "id": "4oorvxaz224o"
      },
      "execution_count": 32,
      "outputs": []
    }
  ]
}